{
  "nbformat": 4,
  "nbformat_minor": 0,
  "metadata": {
    "colab": {
      "provenance": [],
      "authorship_tag": "ABX9TyNO9p6u2TiXdBX7ICRHGe9e",
      "include_colab_link": true
    },
    "kernelspec": {
      "name": "python3",
      "display_name": "Python 3"
    },
    "language_info": {
      "name": "python"
    }
  },
  "cells": [
    {
      "cell_type": "markdown",
      "metadata": {
        "id": "view-in-github",
        "colab_type": "text"
      },
      "source": [
        "<a href=\"https://colab.research.google.com/github/Sachdev91/Python_code_practice/blob/main/Untitled5.ipynb\" target=\"_parent\"><img src=\"https://colab.research.google.com/assets/colab-badge.svg\" alt=\"Open In Colab\"/></a>"
      ]
    },
    {
      "cell_type": "code",
      "execution_count": 2,
      "metadata": {
        "id": "Pg3CI0bvwQ6f"
      },
      "outputs": [],
      "source": [
        "class Book:\n",
        "  def __init__(self, title, author, isbn, publisher, pages, price, copies):\n",
        "    self.title = title\n",
        "    self.author = author\n",
        "    self.isbn = isbn\n",
        "    self.publisher = publisher\n",
        "    self.pages = pages\n",
        "    self.price = price\n",
        "    self.copies = copies\n",
        "  def display(self):\n",
        "    print(f\"Title: {self.title}\")\n",
        "    print(f\"Author: {self.author}\")\n",
        "    print(f\"ISBN: {self.isbn}\")\n",
        "    print(f\"Publisher: {self.publisher}\")\n",
        "    print(f\"Pages: {self.pages}\")\n",
        "    print(f\"Price: {self.price}\")\n",
        "    print(f\"Copies: {self.copies}\")\n",
        "\n",
        "  def in_stock(self):\n",
        "    if self.copies > 0:\n",
        "      return True\n",
        "    else:\n",
        "      return False\n",
        "\n",
        "  def sell(self):\n",
        "    if self.in_stock():\n",
        "      self.copies -= 1\n",
        "    else:\n",
        "      print(\"Book is out of stock\")\n",
        "  @property\n",
        "  def price(self):\n",
        "    return self._price\n",
        "\n",
        "  @price.setter\n",
        "  def price(self, new_price):\n",
        "    if 50 <= new_price <= 1000:\n",
        "      self._price = new_price\n",
        "    else:\n",
        "      raise ValueError(\"Price cannot be less than 50 or greater than 1000\")\n",
        "\n"
      ]
    },
    {
      "cell_type": "code",
      "source": [
        "class Fraction:\n",
        "  def __init__(self, nr, dr=1):\n",
        "    self.nr = nr\n",
        "    self.dr = dr\n",
        "    if self.dr < 0:\n",
        "      self.nr *= -1\n",
        "      self.dr *= -1\n",
        "  def show(self):\n",
        "    print(f\"{self.nr}/{self.dr}\")\n",
        "\n",
        "  def multiply(self, other):\n",
        "    if isinstance(other, int):\n",
        "      other = Fraction(other)\n",
        "\n",
        "    return Fraction(self.nr * other.nr, self.dr * other.dr)\n",
        "\n",
        "  def add(self, other):\n",
        "    if isinstance(other, int):\n",
        "      other = Fraction(other)\n",
        "    return Fraction(self.nr * other.dr + self.nr * other.dr, self.dr * other.dr)\n",
        "\n",
        "\n",
        "f = Fraction(2,3)\n",
        "result = f.add(23)\n",
        "result.show()\n",
        "\n",
        "\n",
        "\n",
        "\n",
        "\n"
      ],
      "metadata": {
        "colab": {
          "base_uri": "https://localhost:8080/"
        },
        "id": "ssXaPY9OBaaP",
        "outputId": "6681038b-0aa9-4fcb-a25d-1d7def3646d6"
      },
      "execution_count": 6,
      "outputs": [
        {
          "output_type": "stream",
          "name": "stdout",
          "text": [
            "4/3\n"
          ]
        }
      ]
    },
    {
      "cell_type": "code",
      "source": [
        "Book1 = Book(\"python\", \"Sam\", \"999-9989-999\", \"NCERT\", 120, 310, 12 )\n",
        "Book2 = Book(\"Machine-Learning\", \"Tom\", \"999-9989-99\", \"NCET\", 100, 330, 22 )\n",
        "Book3 = Book(\"Generative-AI\", \"Gopal\", \"999-999-999\", \"NERT\", 250, 310, 10 )\n",
        "Book4 = Book(\"LLMs\", \"Ram\", \"99-989-999\", \"CERT\", 230, 100, 11 )\n",
        "Book5 = Book(\"AI in Bussiness\", \"Ram\", \"999-959-999\", \"CERT\", 200, 320, 11 )\n",
        "Book6 = Book(\"Future_Jobs\", \"Ram\", \"999-89-999\", \"CERT\", 100, 120, 11 )\n",
        "\n",
        "\n",
        "Book1.display()\n",
        "#Book1.price\n",
        "Book1.price = 110\n",
        "Book1.price"
      ],
      "metadata": {
        "colab": {
          "base_uri": "https://localhost:8080/"
        },
        "id": "NgBZX2cXyJGq",
        "outputId": "62ad77f6-c348-4ae5-f0b6-d4c94db9c68f"
      },
      "execution_count": 7,
      "outputs": [
        {
          "output_type": "stream",
          "name": "stdout",
          "text": [
            "Title: python\n",
            "Author: Sam\n",
            "ISBN: 999-9989-999\n",
            "Publisher: NCERT\n",
            "Pages: 120\n",
            "Price: 310\n",
            "Copies: 12\n"
          ]
        },
        {
          "output_type": "execute_result",
          "data": {
            "text/plain": [
              "110"
            ]
          },
          "metadata": {},
          "execution_count": 7
        }
      ]
    },
    {
      "cell_type": "code",
      "source": [
        "books = [Book1, Book2, Book3, Book4, Book5, Book6]\n",
        "for book in books:\n",
        "  book.display()\n",
        "  print()"
      ],
      "metadata": {
        "id": "cBikMGMG1Ke_",
        "colab": {
          "base_uri": "https://localhost:8080/"
        },
        "outputId": "66193db4-60f8-45bc-d638-de6a783e192e"
      },
      "execution_count": 9,
      "outputs": [
        {
          "output_type": "stream",
          "name": "stdout",
          "text": [
            "Title: python\n",
            "Author: Sam\n",
            "ISBN: 999-9989-999\n",
            "Publisher: NCERT\n",
            "Pages: 120\n",
            "Price: 110\n",
            "Copies: 12\n",
            "\n",
            "Title: Machine-Learning\n",
            "Author: Tom\n",
            "ISBN: 999-9989-99\n",
            "Publisher: NCET\n",
            "Pages: 100\n",
            "Price: 330\n",
            "Copies: 22\n",
            "\n",
            "Title: Generative-AI\n",
            "Author: Gopal\n",
            "ISBN: 999-999-999\n",
            "Publisher: NERT\n",
            "Pages: 250\n",
            "Price: 310\n",
            "Copies: 10\n",
            "\n",
            "Title: LLMs\n",
            "Author: Ram\n",
            "ISBN: 99-989-999\n",
            "Publisher: CERT\n",
            "Pages: 230\n",
            "Price: 100\n",
            "Copies: 11\n",
            "\n",
            "Title: AI in Bussiness\n",
            "Author: Ram\n",
            "ISBN: 999-959-999\n",
            "Publisher: CERT\n",
            "Pages: 200\n",
            "Price: 320\n",
            "Copies: 11\n",
            "\n",
            "Title: Future_Jobs\n",
            "Author: Ram\n",
            "ISBN: 999-89-999\n",
            "Publisher: CERT\n",
            "Pages: 100\n",
            "Price: 120\n",
            "Copies: 11\n",
            "\n"
          ]
        }
      ]
    },
    {
      "cell_type": "code",
      "source": [
        "Ram_book = [x.title for x in books if x.author == \"Ram\" ]\n",
        "print(Ram_book)\n",
        "#print(Book1.value)\n",
        "#print(Book1.price)"
      ],
      "metadata": {
        "id": "E4BDVcC61_2s",
        "colab": {
          "base_uri": "https://localhost:8080/"
        },
        "outputId": "d07ab49c-a5dc-4f2c-ff4f-8cf339140e1b"
      },
      "execution_count": 10,
      "outputs": [
        {
          "output_type": "stream",
          "name": "stdout",
          "text": [
            "['LLMs', 'AI in Bussiness', 'Future_Jobs']\n"
          ]
        }
      ]
    }
  ]
}