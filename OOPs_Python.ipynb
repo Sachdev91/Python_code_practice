{
  "nbformat": 4,
  "nbformat_minor": 0,
  "metadata": {
    "colab": {
      "provenance": [],
      "authorship_tag": "ABX9TyOM1UadIKwsoT1zKOLzjDD6",
      "include_colab_link": true
    },
    "kernelspec": {
      "name": "python3",
      "display_name": "Python 3"
    },
    "language_info": {
      "name": "python"
    }
  },
  "cells": [
    {
      "cell_type": "markdown",
      "metadata": {
        "id": "view-in-github",
        "colab_type": "text"
      },
      "source": [
        "<a href=\"https://colab.research.google.com/github/Sachdev91/Python_code_practice/blob/main/OOPs_Python.ipynb\" target=\"_parent\"><img src=\"https://colab.research.google.com/assets/colab-badge.svg\" alt=\"Open In Colab\"/></a>"
      ]
    },
    {
      "cell_type": "markdown",
      "source": [
        "# **Object Oriented Programming in Python**\n",
        "\n",
        "\n",
        "*   First I have created class Book. This class Book works as a template/blueprint for the objects or class instances created within this class.\n",
        "*   Under this class Book, a constructer __init__ is created to initialize the instance-variables automatically while declaring the object. Here in this code there are seven instance-variables.\n",
        "    self.title = title,\n",
        "    self.author = author,\n",
        "    self.isbn = isbn,\n",
        "    self.publisher = publisher,\n",
        "    self.pages = pages,\n",
        "    self.price = price,\n",
        "    self.copies = copies.  Each book will have a title, author, isbn, publisher, pages, price, and copies.\n",
        "\n",
        "\n"
      ],
      "metadata": {
        "id": "_--49tg513bb"
      }
    },
    {
      "cell_type": "code",
      "execution_count": null,
      "metadata": {
        "id": "Pg3CI0bvwQ6f"
      },
      "outputs": [],
      "source": [
        "class Book:\n",
        "  def __init__(self, title, author, isbn, publisher, pages, price, copies):\n",
        "    self.title = title\n",
        "    self.author = author\n",
        "    self.isbn = isbn\n",
        "    self.publisher = publisher\n",
        "    self.pages = pages\n",
        "    self.price = price\n",
        "    self.copies = copies\n",
        "  def display(self):\n",
        "    print(f\"Title: {self.title}\")\n",
        "    print(f\"Author: {self.author}\")\n",
        "    print(f\"ISBN: {self.isbn}\")\n",
        "    print(f\"Publisher: {self.publisher}\")\n",
        "    print(f\"Pages: {self.pages}\")\n",
        "    print(f\"Price: {self.price}\")\n",
        "    print(f\"Copies: {self.copies}\")\n",
        "\n",
        "  def in_stock(self):\n",
        "    if self.copies > 0:\n",
        "      return True\n",
        "    else:\n",
        "      return False\n",
        "\n",
        "  def sell(self):\n",
        "    if self.in_stock():\n",
        "      self.copies -= 1\n",
        "    else:\n",
        "      print(\"Book is out of stock\")\n",
        "  @property\n",
        "  def price(self):\n",
        "    return self._price\n",
        "\n",
        "  @price.setter\n",
        "  def price(self, new_price):\n",
        "    if 50 <= new_price <= 1000:\n",
        "      self._price = new_price\n",
        "    else:\n",
        "      raise ValueError(\"Price cannot be less than 50 or greater than 1000\")\n",
        "\n"
      ]
    },
    {
      "cell_type": "code",
      "source": [
        "class Fraction:\n",
        "  def __init__(self, nr, dr=1):\n",
        "    self.nr = nr\n",
        "    self.dr = dr\n",
        "    if self.dr < 0:\n",
        "      self.nr *= -1\n",
        "      self.dr *= -1\n",
        "  def show(self):\n",
        "    print(f\"{self.nr}/{self.dr}\")\n",
        "\n",
        "  def multiply(self, other):\n",
        "    if isinstance(other, int):\n",
        "      other = Fraction(other)\n",
        "\n",
        "    return Fraction(self.nr * other.nr, self.dr * other.dr)\n",
        "\n",
        "f = Fraction(5, 8)\n",
        "f1 = Fraction(6,8)\n",
        "f.show()\n",
        "result = f.multiply(f1)\n",
        "result.show()\n",
        "\n"
      ],
      "metadata": {
        "colab": {
          "base_uri": "https://localhost:8080/"
        },
        "id": "ssXaPY9OBaaP",
        "outputId": "00d5d3c4-31f4-4b3c-8eeb-8898cf3cf785"
      },
      "execution_count": null,
      "outputs": [
        {
          "output_type": "stream",
          "name": "stdout",
          "text": [
            "5/8\n",
            "30/64\n"
          ]
        }
      ]
    },
    {
      "cell_type": "code",
      "source": [
        "Book1 = Book(\"python\", \"Sam\", \"999-9989-999\", \"NCERT\", 120, 310, 12 )\n",
        "Book2 = Book(\"Machine-Learning\", \"Tom\", \"999-9989-99\", \"NCET\", 100, 330, 22 )\n",
        "Book3 = Book(\"Generative-AI\", \"Gopal\", \"999-999-999\", \"NERT\", 250, 310, 10 )\n",
        "Book4 = Book(\"LLMs\", \"Ram\", \"99-989-999\", \"CERT\", 230, 100, 11 )\n",
        "Book5 = Book(\"AI in Bussiness\", \"Ram\", \"999-959-999\", \"CERT\", 200, 320, 11 )\n",
        "Book6 = Book(\"Future_Jobs\", \"Ram\", \"999-89-999\", \"CERT\", 100, 120, 11 )\n",
        "\n",
        "\n",
        "Book1.display()\n",
        "#Book1.price\n",
        "Book1.price = 110\n",
        "Book1.price"
      ],
      "metadata": {
        "colab": {
          "base_uri": "https://localhost:8080/"
        },
        "id": "NgBZX2cXyJGq",
        "outputId": "2144c747-27aa-4066-fcf1-b8687402f3d0"
      },
      "execution_count": null,
      "outputs": [
        {
          "output_type": "stream",
          "name": "stdout",
          "text": [
            "Title: python\n",
            "Author: Sam\n",
            "ISBN: 999-9989-999\n",
            "Publisher: NCERT\n",
            "Pages: 120\n",
            "Price: 310\n",
            "Copies: 12\n"
          ]
        },
        {
          "output_type": "execute_result",
          "data": {
            "text/plain": [
              "110"
            ]
          },
          "metadata": {},
          "execution_count": 41
        }
      ]
    },
    {
      "cell_type": "code",
      "source": [
        "books = [Book1, Book2, Book3, Book4, Book5, Book6]\n",
        "for book in books:\n",
        "  book.display()\n",
        "  print()"
      ],
      "metadata": {
        "id": "cBikMGMG1Ke_",
        "colab": {
          "base_uri": "https://localhost:8080/"
        },
        "outputId": "5e6187c6-9b0c-4d24-f6a1-d79a741c449e"
      },
      "execution_count": null,
      "outputs": [
        {
          "output_type": "stream",
          "name": "stdout",
          "text": [
            "Title: python\n",
            "Author: Sam\n",
            "ISBN: 999-9989-999\n",
            "Publisher: NCERT\n",
            "Pages: 120\n",
            "Price: 310\n",
            "Copies: 12\n",
            "\n",
            "Title: Machine-Learning\n",
            "Author: Tom\n",
            "ISBN: 999-9989-99\n",
            "Publisher: NCET\n",
            "Pages: 100\n",
            "Price: 330\n",
            "Copies: 22\n",
            "\n",
            "Title: Generative-AI\n",
            "Author: Gopal\n",
            "ISBN: 999-999-999\n",
            "Publisher: NERT\n",
            "Pages: 250\n",
            "Price: 310\n",
            "Copies: 10\n",
            "\n",
            "Title: LLMs\n",
            "Author: Ram\n",
            "ISBN: 99-989-999\n",
            "Publisher: CERT\n",
            "Pages: 230\n",
            "Price: 100\n",
            "Copies: 11\n",
            "\n",
            "Title: AI in Bussiness\n",
            "Author: Ram\n",
            "ISBN: 999-959-999\n",
            "Publisher: CERT\n",
            "Pages: 200\n",
            "Price: 320\n",
            "Copies: 11\n",
            "\n",
            "Title: Future_Jobs\n",
            "Author: Ram\n",
            "ISBN: 999-89-999\n",
            "Publisher: CERT\n",
            "Pages: 100\n",
            "Price: 120\n",
            "Copies: 11\n",
            "\n"
          ]
        }
      ]
    },
    {
      "cell_type": "code",
      "source": [
        "Ram_book = [x.title for x in books if x.author == \"Ram\" ]\n",
        "print(Ram_book)\n",
        "#print(Book1.value)\n",
        "#print(Book1.price)"
      ],
      "metadata": {
        "id": "E4BDVcC61_2s",
        "colab": {
          "base_uri": "https://localhost:8080/"
        },
        "outputId": "5f52f105-e5e4-43e9-b311-1f48d84b843f"
      },
      "execution_count": null,
      "outputs": [
        {
          "output_type": "stream",
          "name": "stdout",
          "text": [
            "['LLMs', 'AI in Bussiness', 'Future_Jobs']\n"
          ]
        }
      ]
    }
  ]
}